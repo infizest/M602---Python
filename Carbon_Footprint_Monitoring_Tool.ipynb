{
  "nbformat": 4,
  "nbformat_minor": 0,
  "metadata": {
    "colab": {
      "provenance": [],
      "authorship_tag": "ABX9TyOck9UQRkmV1CZqoYch9w9y",
      "include_colab_link": true
    },
    "kernelspec": {
      "name": "python3",
      "display_name": "Python 3"
    },
    "language_info": {
      "name": "python"
    }
  },
  "cells": [
    {
      "cell_type": "markdown",
      "metadata": {
        "id": "view-in-github",
        "colab_type": "text"
      },
      "source": [
        "<a href=\"https://colab.research.google.com/github/infizest/M602---Python/blob/main/Carbon_Footprint_Monitoring_Tool.ipynb\" target=\"_parent\"><img src=\"https://colab.research.google.com/assets/colab-badge.svg\" alt=\"Open In Colab\"/></a>"
      ]
    },
    {
      "cell_type": "markdown",
      "source": [
        "# Carbon Footprint Monitoring Tool"
      ],
      "metadata": {
        "id": "Me7cap7-ugu6"
      }
    },
    {
      "cell_type": "markdown",
      "source": [
        "# Step 1: Install & Import Required Libraries\n"
      ],
      "metadata": {
        "id": "HQgopr6puiX5"
      }
    },
    {
      "cell_type": "code",
      "execution_count": null,
      "metadata": {
        "colab": {
          "base_uri": "https://localhost:8080/"
        },
        "id": "WBhLgnC-uUhZ",
        "outputId": "130f7397-7e32-43b1-c326-03ea4f7b5e46"
      },
      "outputs": [
        {
          "output_type": "stream",
          "name": "stdout",
          "text": [
            "Requirement already satisfied: pandas in /usr/local/lib/python3.11/dist-packages (2.2.2)\n",
            "Requirement already satisfied: openpyxl in /usr/local/lib/python3.11/dist-packages (3.1.5)\n",
            "Requirement already satisfied: matplotlib in /usr/local/lib/python3.11/dist-packages (3.10.0)\n",
            "Requirement already satisfied: numpy>=1.23.2 in /usr/local/lib/python3.11/dist-packages (from pandas) (1.26.4)\n",
            "Requirement already satisfied: python-dateutil>=2.8.2 in /usr/local/lib/python3.11/dist-packages (from pandas) (2.8.2)\n",
            "Requirement already satisfied: pytz>=2020.1 in /usr/local/lib/python3.11/dist-packages (from pandas) (2025.1)\n",
            "Requirement already satisfied: tzdata>=2022.7 in /usr/local/lib/python3.11/dist-packages (from pandas) (2025.1)\n",
            "Requirement already satisfied: et-xmlfile in /usr/local/lib/python3.11/dist-packages (from openpyxl) (2.0.0)\n",
            "Requirement already satisfied: contourpy>=1.0.1 in /usr/local/lib/python3.11/dist-packages (from matplotlib) (1.3.1)\n",
            "Requirement already satisfied: cycler>=0.10 in /usr/local/lib/python3.11/dist-packages (from matplotlib) (0.12.1)\n",
            "Requirement already satisfied: fonttools>=4.22.0 in /usr/local/lib/python3.11/dist-packages (from matplotlib) (4.56.0)\n",
            "Requirement already satisfied: kiwisolver>=1.3.1 in /usr/local/lib/python3.11/dist-packages (from matplotlib) (1.4.8)\n",
            "Requirement already satisfied: packaging>=20.0 in /usr/local/lib/python3.11/dist-packages (from matplotlib) (24.2)\n",
            "Requirement already satisfied: pillow>=8 in /usr/local/lib/python3.11/dist-packages (from matplotlib) (11.1.0)\n",
            "Requirement already satisfied: pyparsing>=2.3.1 in /usr/local/lib/python3.11/dist-packages (from matplotlib) (3.2.1)\n",
            "Requirement already satisfied: six>=1.5 in /usr/local/lib/python3.11/dist-packages (from python-dateutil>=2.8.2->pandas) (1.17.0)\n"
          ]
        }
      ],
      "source": [
        "!pip install pandas openpyxl matplotlib\n",
        "import pandas as pd\n",
        "import matplotlib.pyplot as plt"
      ]
    },
    {
      "cell_type": "markdown",
      "source": [
        "# Step 2: Load & Inspect the Dataset"
      ],
      "metadata": {
        "id": "5dtVHs76u8ii"
      }
    },
    {
      "cell_type": "markdown",
      "source": [
        "\n",
        "\n",
        "*   Loads the Excel dataset.\n",
        "*   Displays the first few rows to verify structure.\n",
        "*   Shows all column names to understand available data.\n",
        "\n"
      ],
      "metadata": {
        "id": "6nzvDnY2vbsJ"
      }
    },
    {
      "cell_type": "code",
      "source": [
        "#CO2 dataset\n",
        "file_path = '/content/owid-co2-data.xlsx'\n",
        "df = pd.read_excel(file_path)\n",
        "\n",
        "# Display the first few rows to understand the structure\n",
        "print(\"Dataset Preview:\")\n",
        "print(df.head())\n",
        "print(\"\\nColumn Names:\")\n",
        "print(df.columns)"
      ],
      "metadata": {
        "colab": {
          "base_uri": "https://localhost:8080/"
        },
        "id": "PKN8Zzvxu-4R",
        "outputId": "1ec620c0-2759-412a-e0f3-99fe50a31bdd"
      },
      "execution_count": null,
      "outputs": [
        {
          "output_type": "stream",
          "name": "stdout",
          "text": [
            "Dataset Preview:\n",
            "       country  year iso_code  population  gdp  cement_co2  \\\n",
            "0  Afghanistan  1750      AFG   2802560.0  NaN         0.0   \n",
            "1  Afghanistan  1751      AFG         NaN  NaN         0.0   \n",
            "2  Afghanistan  1752      AFG         NaN  NaN         0.0   \n",
            "3  Afghanistan  1753      AFG         NaN  NaN         0.0   \n",
            "4  Afghanistan  1754      AFG         NaN  NaN         0.0   \n",
            "\n",
            "   cement_co2_per_capita  co2  co2_growth_abs  co2_growth_prct  ...  \\\n",
            "0                    0.0  NaN             NaN              NaN  ...   \n",
            "1                    NaN  NaN             NaN              NaN  ...   \n",
            "2                    NaN  NaN             NaN              NaN  ...   \n",
            "3                    NaN  NaN             NaN              NaN  ...   \n",
            "4                    NaN  NaN             NaN              NaN  ...   \n",
            "\n",
            "   share_global_other_co2  share_of_temperature_change_from_ghg  \\\n",
            "0                     NaN                                   NaN   \n",
            "1                     NaN                                   NaN   \n",
            "2                     NaN                                   NaN   \n",
            "3                     NaN                                   NaN   \n",
            "4                     NaN                                   NaN   \n",
            "\n",
            "   temperature_change_from_ch4  temperature_change_from_co2  \\\n",
            "0                          NaN                          NaN   \n",
            "1                          NaN                          NaN   \n",
            "2                          NaN                          NaN   \n",
            "3                          NaN                          NaN   \n",
            "4                          NaN                          NaN   \n",
            "\n",
            "   temperature_change_from_ghg  temperature_change_from_n2o  total_ghg  \\\n",
            "0                          NaN                          NaN        NaN   \n",
            "1                          NaN                          NaN        NaN   \n",
            "2                          NaN                          NaN        NaN   \n",
            "3                          NaN                          NaN        NaN   \n",
            "4                          NaN                          NaN        NaN   \n",
            "\n",
            "   total_ghg_excluding_lucf  trade_co2  trade_co2_share  \n",
            "0                       NaN        NaN              NaN  \n",
            "1                       NaN        NaN              NaN  \n",
            "2                       NaN        NaN              NaN  \n",
            "3                       NaN        NaN              NaN  \n",
            "4                       NaN        NaN              NaN  \n",
            "\n",
            "[5 rows x 79 columns]\n",
            "\n",
            "Column Names:\n",
            "Index(['country', 'year', 'iso_code', 'population', 'gdp', 'cement_co2',\n",
            "       'cement_co2_per_capita', 'co2', 'co2_growth_abs', 'co2_growth_prct',\n",
            "       'co2_including_luc', 'co2_including_luc_growth_abs',\n",
            "       'co2_including_luc_growth_prct', 'co2_including_luc_per_capita',\n",
            "       'co2_including_luc_per_gdp', 'co2_including_luc_per_unit_energy',\n",
            "       'co2_per_capita', 'co2_per_gdp', 'co2_per_unit_energy', 'coal_co2',\n",
            "       'coal_co2_per_capita', 'consumption_co2', 'consumption_co2_per_capita',\n",
            "       'consumption_co2_per_gdp', 'cumulative_cement_co2', 'cumulative_co2',\n",
            "       'cumulative_co2_including_luc', 'cumulative_coal_co2',\n",
            "       'cumulative_flaring_co2', 'cumulative_gas_co2', 'cumulative_luc_co2',\n",
            "       'cumulative_oil_co2', 'cumulative_other_co2', 'energy_per_capita',\n",
            "       'energy_per_gdp', 'flaring_co2', 'flaring_co2_per_capita', 'gas_co2',\n",
            "       'gas_co2_per_capita', 'ghg_excluding_lucf_per_capita', 'ghg_per_capita',\n",
            "       'land_use_change_co2', 'land_use_change_co2_per_capita', 'methane',\n",
            "       'methane_per_capita', 'nitrous_oxide', 'nitrous_oxide_per_capita',\n",
            "       'oil_co2', 'oil_co2_per_capita', 'other_co2_per_capita',\n",
            "       'other_industry_co2', 'primary_energy_consumption',\n",
            "       'share_global_cement_co2', 'share_global_co2',\n",
            "       'share_global_co2_including_luc', 'share_global_coal_co2',\n",
            "       'share_global_cumulative_cement_co2', 'share_global_cumulative_co2',\n",
            "       'share_global_cumulative_co2_including_luc',\n",
            "       'share_global_cumulative_coal_co2',\n",
            "       'share_global_cumulative_flaring_co2',\n",
            "       'share_global_cumulative_gas_co2', 'share_global_cumulative_luc_co2',\n",
            "       'share_global_cumulative_oil_co2', 'share_global_cumulative_other_co2',\n",
            "       'share_global_flaring_co2', 'share_global_gas_co2',\n",
            "       'share_global_luc_co2', 'share_global_oil_co2',\n",
            "       'share_global_other_co2', 'share_of_temperature_change_from_ghg',\n",
            "       'temperature_change_from_ch4', 'temperature_change_from_co2',\n",
            "       'temperature_change_from_ghg', 'temperature_change_from_n2o',\n",
            "       'total_ghg', 'total_ghg_excluding_lucf', 'trade_co2',\n",
            "       'trade_co2_share'],\n",
            "      dtype='object')\n"
          ]
        }
      ]
    },
    {
      "cell_type": "markdown",
      "source": [
        "# Step 3: Data Cleaning & Handling Missing Values"
      ],
      "metadata": {
        "id": "9kmO3yGNvqAx"
      }
    },
    {
      "cell_type": "markdown",
      "source": [
        "Fills missing values with 0 (to avoid errors).\n",
        "\n",
        "Converts column names to lowercase (for easy reference).\n",
        "\n",
        "Ensures data consistency before analysis."
      ],
      "metadata": {
        "id": "4Y08dkHQvz6o"
      }
    },
    {
      "cell_type": "code",
      "source": [
        "# Replace NaN values with 0\n",
        "df.fillna(0, inplace=True)\n",
        "\n",
        "#column names to lowercase\n",
        "df.columns = df.columns.str.lower()\n",
        "\n",
        "# Check for missing values after cleaning\n",
        "print(\"\\nMissing Values Count (after cleaning):\")\n",
        "print(df.isnull().sum())"
      ],
      "metadata": {
        "colab": {
          "base_uri": "https://localhost:8080/"
        },
        "id": "hsYp6c1ZvsTR",
        "outputId": "2f267dca-d96d-4d0b-8f9a-bef46a9519f6"
      },
      "execution_count": null,
      "outputs": [
        {
          "output_type": "stream",
          "name": "stdout",
          "text": [
            "\n",
            "Missing Values Count (after cleaning):\n",
            "country                        0\n",
            "year                           0\n",
            "iso_code                       0\n",
            "population                     0\n",
            "gdp                            0\n",
            "                              ..\n",
            "temperature_change_from_n2o    0\n",
            "total_ghg                      0\n",
            "total_ghg_excluding_lucf       0\n",
            "trade_co2                      0\n",
            "trade_co2_share                0\n",
            "Length: 79, dtype: int64\n"
          ]
        }
      ]
    },
    {
      "cell_type": "markdown",
      "source": [
        "# Step 4: Define Function for Generating Carbon Footprint Report"
      ],
      "metadata": {
        "id": "5mghNQSSwqFw"
      }
    },
    {
      "cell_type": "markdown",
      "source": [
        "Filters dataset based on user input such as country & year.\n",
        "\n",
        "Checks if data exists.\n",
        "\n",
        "Extracts CO2 emissions and saves a report in CSV format."
      ],
      "metadata": {
        "id": "K9Inv_cmws44"
      }
    },
    {
      "cell_type": "code",
      "source": [
        "def generate_report(country: str, year: int):\n",
        "    \"\"\"\n",
        "    Generates a Carbon Footprint report for a given country and year.\n",
        "    \"\"\"\n",
        "    # Filter dataset for the selected country and year\n",
        "    filtered_data = df[(df['country'] == country) & (df['year'] == year)]\n",
        "\n",
        "    # If no data is found, return a message\n",
        "    if filtered_data.empty:\n",
        "        return f\"No data available for {country} in {year}.\"\n",
        "\n",
        "    # Extract CO2 emissions\n",
        "    total_emissions = filtered_data['co2'].values[0]\n",
        "\n",
        "    # Display the report\n",
        "    print(f\"Carbon Footprint Report for {country} in {year}:\")\n",
        "    print(f\"Total CO2 Emissions: {total_emissions} metric tons\")\n",
        "\n",
        "    # Save the report as a CSV file\n",
        "    report_data = pd.DataFrame({'Country': [country], 'Year': [year], 'CO2 Emissions': [total_emissions]})\n",
        "    report_filename = f\"carbon_report_{country}_{year}.csv\"\n",
        "    report_data.to_csv(report_filename, index=False)\n",
        "\n",
        "    print(f\"Report saved as: {report_filename}\")\n"
      ],
      "metadata": {
        "id": "VM7BOnsmw1qg"
      },
      "execution_count": null,
      "outputs": []
    },
    {
      "cell_type": "markdown",
      "source": [
        "# User inputs to Genared the Report of the specific Country and year"
      ],
      "metadata": {
        "id": "OqSnU1yxyM6n"
      }
    },
    {
      "cell_type": "code",
      "source": [
        "user_country = \"Germany\"\n",
        "user_year = 2020\n",
        "generate_report(user_country, user_year)"
      ],
      "metadata": {
        "colab": {
          "base_uri": "https://localhost:8080/"
        },
        "id": "WTRHwd_YxgFx",
        "outputId": "7af2fe02-7a9d-4f3b-f632-8ce47d4508a8"
      },
      "execution_count": null,
      "outputs": [
        {
          "output_type": "stream",
          "name": "stdout",
          "text": [
            "Carbon Footprint Report for Germany in 2020:\n",
            "Total CO2 Emissions: 648.357 metric tons\n",
            "Report saved as: carbon_report_Germany_2020.csv\n"
          ]
        }
      ]
    },
    {
      "cell_type": "markdown",
      "source": [
        "# Step 5: Define Function for Visualizing CO2 Emission Trends"
      ],
      "metadata": {
        "id": "fE0hBFUsywu_"
      }
    },
    {
      "cell_type": "markdown",
      "source": [
        "Plots a line graph showing CO2 trends over the years.\n",
        "\n",
        "Handles missing data gracefully.\n",
        "\n",
        "Uses Matplotlib for visualization."
      ],
      "metadata": {
        "id": "C-0gmfTvyzZP"
      }
    },
    {
      "cell_type": "code",
      "source": [
        "def plot_trends(country: str):\n",
        "    \"\"\"\n",
        "\n",
        "    \"\"\"\n",
        "    # Filter data for the given country\n",
        "    country_data = df[df['country'] == country]\n",
        "\n",
        "    # If no data is found, return a message\n",
        "    if country_data.empty:\n",
        "        print(f\"No data available for {country}.\")\n",
        "        return\n",
        "\n",
        "    # Plot the data\n",
        "    plt.figure(figsize=(10, 5))\n",
        "    plt.plot(country_data['year'], country_data['co2'], marker='o', linestyle='-', color='blue')\n",
        "    plt.title(f'CO2 Emission Trends in {country}')\n",
        "    plt.xlabel('Year')\n",
        "    plt.ylabel('CO2 Emissions (metric tons)')\n",
        "    plt.grid(True)\n",
        "\n",
        "    # Show the plot\n",
        "    plt.show()\n",
        "\n"
      ],
      "metadata": {
        "id": "NB_6gaZly2Zv"
      },
      "execution_count": null,
      "outputs": []
    },
    {
      "cell_type": "markdown",
      "source": [
        "# Step 6: Handle Invalid User Input Gracefully"
      ],
      "metadata": {
        "id": "MLHT8RVwzWw_"
      }
    },
    {
      "cell_type": "markdown",
      "source": [
        "Ensures users only enter valid country & year.\n",
        "\n",
        "Provides error messages for incorrect inputs.\n",
        "\n",
        "Loops until a valid entry is received."
      ],
      "metadata": {
        "id": "I4cLvKHDzZy2"
      }
    },
    {
      "cell_type": "code",
      "source": [
        "def get_valid_input():\n",
        "    \"\"\"\n",
        "    Ensures the user provides a valid country and year from the dataset.\n",
        "    \"\"\"\n",
        "    available_countries = df['country'].unique()\n",
        "\n",
        "    while True:\n",
        "        country = input(\"Enter country name: \").strip()\n",
        "        if country in available_countries:\n",
        "            break\n",
        "        print(\"Invalid country. Please try again.\")\n",
        "\n",
        "    while True:\n",
        "        try:\n",
        "            year = int(input(\"Enter year (e.g., 2020): \"))\n",
        "            if year in df['year'].unique():\n",
        "                break\n",
        "            else:\n",
        "                print(\"Year not available in the dataset. Try again.\")\n",
        "        except ValueError:\n",
        "            print(\"Invalid year format. Enter a numeric value.\")\n",
        "\n",
        "    return country, year\n",
        "\n",
        "# Example Usage:\n",
        "user_country, user_year = get_valid_input()\n",
        "generate_report(user_country, user_year)\n",
        "plot_trends(user_country)\n"
      ],
      "metadata": {
        "colab": {
          "base_uri": "https://localhost:8080/",
          "height": 574
        },
        "id": "CLwK-Mh1zYCW",
        "outputId": "aee1e500-56bc-463a-971c-1898aa6cfaab"
      },
      "execution_count": null,
      "outputs": [
        {
          "output_type": "stream",
          "name": "stdout",
          "text": [
            "Enter country name: Germany\n",
            "Enter year (e.g., 2020): 2021\n",
            "Carbon Footprint Report for Germany in 2021:\n",
            "Total CO2 Emissions: 678.777 metric tons\n",
            "Report saved as: carbon_report_Germany_2021.csv\n"
          ]
        },
        {
          "output_type": "display_data",
          "data": {
            "text/plain": [
              "<Figure size 1000x500 with 1 Axes>"
            ],
            "image/png": "[encoded data removed]"
          },
          "metadata": {}
        }
      ]
    }
  ]
}